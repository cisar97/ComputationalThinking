{
 "cells": [
  {
   "cell_type": "code",
   "execution_count": 1,
   "id": "719fa498",
   "metadata": {},
   "outputs": [],
   "source": [
    "import numpy as np "
   ]
  },
  {
   "cell_type": "code",
   "execution_count": 2,
   "id": "ef6d18cd",
   "metadata": {},
   "outputs": [],
   "source": [
    "## Functions for parsing the sum of different functions \n",
    "\n",
    "def split_plus(function) :\n",
    "    terms_list = []\n",
    "    if '+' in function : \n",
    "        index = function.index('+')\n",
    "        #print('funct1 =',function[:index])\n",
    "        #print('funct2 =',function[index+1:])\n",
    "        terms_list.append(function[:index])\n",
    "        new_funct = split_plus(function[index+1:])\n",
    "        for element in new_funct : \n",
    "            if type(element) == list : \n",
    "                terms_list.append(element[0])\n",
    "            else : \n",
    "                terms_list.append(element)\n",
    "    else : \n",
    "        terms_list.append(function)\n",
    "    \n",
    "    return terms_list \n",
    "\n",
    "def split_minus(terms_list) : \n",
    "    for i, term in enumerate(terms_list) : \n",
    "        if '-' in term : \n",
    "            index = term.index('-')\n",
    "            terms_list[i] = term[:index]\n",
    "            terms_list.insert(i+1, term[index+1:])\n",
    "            new_term = split_minus(terms_list)\n",
    "        \n",
    "    return terms_list\n",
    "\n",
    "def split_pm(function) : \n",
    "    sign = [char for char in function if char == '+' or char == '-']\n",
    "    sign.insert(0, '+')\n",
    "    funct_list = function.split('+') \n",
    "    for i,term in enumerate(funct_list):\n",
    "        if '-' in term : \n",
    "            funct_list[i] = term.split('-')[0] \n",
    "            funct_list.insert(i+1, term.split('-')[1])\n",
    "    return funct_list, sign\n",
    "\n",
    "\n",
    "        "
   ]
  },
  {
   "cell_type": "code",
   "execution_count": 3,
   "id": "df745c56",
   "metadata": {},
   "outputs": [
    {
     "name": "stdout",
     "output_type": "stream",
     "text": [
      "['x1*x2', 'sin(x1)', 'cos(x1)', '75'] ['+', '-', '+', '-']\n"
     ]
    }
   ],
   "source": [
    "## Test for the parser function\n",
    "\n",
    "function = \"x1*x2-sin(x1)+cos(x1)-75\"\n",
    "funct_list, sign = split_pm(function)\n",
    "print(funct_list, sign)"
   ]
  },
  {
   "cell_type": "code",
   "execution_count": 4,
   "metadata": {},
   "outputs": [],
   "source": [
    "## Functions for derivative of some functions \n",
    "\n",
    "def der1(x1, x2, der_var) : \n",
    "    if der_var == 'x1' :\n",
    "        dx1 = [x1,1]\n",
    "        dx2 = [x2,0]\n",
    "    elif der_var == 'x2' : \n",
    "        dx1 = [x1,0]\n",
    "        dx2 = [x2,1]\n",
    "    return [dx1, dx2]\n",
    "\n",
    "def der_sum(dx1, dx2) : \n",
    "    d_sum = [ dx1[0] + dx2[0], dx1[1] + dx2[1] ]\n",
    "    return d_sum\n",
    "\n",
    "def der_diff(dx1, dx2) : \n",
    "    d_diff = [ dx1[0] - dx2[0], dx1[1] - dx2[1] ]\n",
    "    return d_diff\n",
    "\n",
    "def der_mult(d_dx, list_var, der_var) : \n",
    "    for i, var in enumerate(list_var) : \n",
    "        if der_var == var : \n",
    "            d_prod = [ d_dx[i][0] * d_dx[i-1][0], d_dx[i][0]*d_dx[i-1][1] + d_dx[i][1]*d_dx[i-1][0] ]\n",
    "    \n",
    "    return d_prod\n",
    "\n",
    "def der_sin(d_dx, list_var, der_var) : \n",
    "    for i, var in enumerate(list_var) : \n",
    "        if der_var == var : \n",
    "            d_sin = [ np.sin(d_dx[i][0]), np.cos(d_dx[i][0])*d_dx[i][1] ]\n",
    "    \n",
    "    return d_sin\n",
    "\n",
    "def der_cos(d_dx, list_var, der_var) : \n",
    "    for i, var in enumerate(list_var) : \n",
    "        if der_var == var : \n",
    "            d_cos = [ np.cos(d_dx[i][0]), -1*np.sin(d_dx[i][0])*d_dx[i][1] ]\n",
    "    \n",
    "    return d_cos"
   ]
  },
  {
   "cell_type": "code",
   "execution_count": 5,
   "metadata": {},
   "outputs": [],
   "source": [
    "## Autodiff function \n",
    "\n",
    "def derivate(function, list_var, v, w, der_var) : \n",
    "    d_dx = der1(x1=v, x2=w, der_var=der_var)\n",
    "    der_term = []\n",
    "    funct_list, sign = split_pm(function)\n",
    "\n",
    "    for term in funct_list : \n",
    "        if '*' in term : \n",
    "            factors = term.split('*')\n",
    "            op = []\n",
    "            for factor in factors :\n",
    "                for i,var in enumerate(list_var) : \n",
    "                    if factor==var : \n",
    "                        op.append(d_dx[i])\n",
    "            d_prod = der_mult(d_dx=op, list_var=list_var, der_var=der_var) \n",
    "            der_term.append(d_prod)\n",
    "\n",
    "        elif 'sin' in term : \n",
    "            angle = term.replace('sin(', '')\n",
    "            angle = angle.replace(')', '')\n",
    "            d_sin = der_sin(d_dx=d_dx, list_var=list_var, der_var=der_var )\n",
    "            der_term.append(d_sin)\n",
    "\n",
    "        elif 'cos' in term : \n",
    "            angle = term.replace('cos(', '')\n",
    "            angle = angle.replace(')', '')\n",
    "            d_cos = der_cos(d_dx=d_dx, list_var=list_var, der_var=der_var )\n",
    "            der_term.append(d_cos)\n",
    "        \n",
    "    total_der = 0\n",
    "    for i, addend in enumerate(der_term) :\n",
    "        if sign[i] == '+' :\n",
    "            total_der += addend[1]\n",
    "        elif sign[i] == '-' : \n",
    "            total_der -= addend[1]\n",
    "    \n",
    "    return der_term, total_der"
   ]
  },
  {
   "cell_type": "code",
   "execution_count": 7,
   "metadata": {},
   "outputs": [
    {
     "name": "stdout",
     "output_type": "stream",
     "text": [
      "Derivatives of the addend :  [[6, 3], [-0.4161468365471424, -0.9092974268256817], [0.9092974268256817, -0.4161468365471424]]\n",
      "Total derivative =  3.4931505902785394\n"
     ]
    }
   ],
   "source": [
    "function = 'x1*x2-cos(x1)+sin(x1)'\n",
    "der_term, total_der = derivate(function, list_var=['x1','x2'], v=2, w=3, der_var='x1')\n",
    "print('Derivatives of the addend : ', der_term)\n",
    "print('Total derivative = ', total_der)"
   ]
  },
  {
   "cell_type": "code",
   "execution_count": null,
   "metadata": {},
   "outputs": [],
   "source": []
  }
 ],
 "metadata": {
  "kernelspec": {
   "display_name": "Python (base)",
   "language": "python",
   "name": "base"
  },
  "language_info": {
   "codemirror_mode": {
    "name": "ipython",
    "version": 3
   },
   "file_extension": ".py",
   "mimetype": "text/x-python",
   "name": "python",
   "nbconvert_exporter": "python",
   "pygments_lexer": "ipython3",
   "version": "3.9.13"
  }
 },
 "nbformat": 4,
 "nbformat_minor": 5
}

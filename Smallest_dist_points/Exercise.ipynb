{
 "cells": [
  {
   "cell_type": "code",
   "execution_count": 1,
   "id": "a7d15eed",
   "metadata": {},
   "outputs": [],
   "source": [
    "import numpy as np \n",
    "import matplotlib.pyplot as plt\n",
    "import time"
   ]
  },
  {
   "cell_type": "code",
   "execution_count": 2,
   "id": "85a05b68",
   "metadata": {},
   "outputs": [],
   "source": [
    "def generate_points(length) : \n",
    "    # Random generator for points in a box \n",
    "    points = np.random.uniform(0, 10, [length,2])\n",
    "    return points\n",
    "\n",
    "def distance(a, b) : \n",
    "    # Compute euclidean distance between 2 points\n",
    "    dist = np.sqrt( (a[0] - b[0])**2 + (a[1] - b[1])**2 )\n",
    "    return dist\n",
    "\n",
    "def minimum_distance(points) :\n",
    "    # Compute minimum distance by computing all the distances and \n",
    "    # sorting them  \n",
    "    all_distances = np.empty(0)\n",
    "    start_time = time.time()\n",
    "    for i in enumerate(points) : \n",
    "        for j in range(i[0]+1, np.shape(points)[0]) : \n",
    "            dist = distance(i[1], points[j])\n",
    "            all_distances = np.append(all_distances, dist)\n",
    "    \n",
    "    min_dist = np.min(all_distances)\n",
    "    total_time = (time.time() - start_time)\n",
    "    return(min_dist, total_time)\n",
    "\n",
    "def new_distance(points) : \n",
    "    # Compute minimum distance via computing only points inside \n",
    "    # a specific distance from the selected one. \n",
    "    all_distances = np.empty(0)\n",
    "    \n",
    "    start_time = time.time()\n",
    "    for i in range(1, np.shape(points)[0]) : \n",
    "        dist = distance(points[0], points[i])\n",
    "        all_distances = np.append(all_distances, dist)\n",
    "\n",
    "    min_dist = np.min(all_distances)\n",
    "    \n",
    "    for j in range(np.shape(all_distances)[0]) : \n",
    "        for k in range(j+1, np.shape(all_distances)[0]) : \n",
    "            if j == k : \n",
    "                continue\n",
    "            else : \n",
    "                dd = abs(all_distances[j] - all_distances[k])\n",
    "                if dd <= min_dist + all_distances[k] : \n",
    "                    new_dist = distance(points[j+1], points[k+1])\n",
    "                    if new_dist < min_dist : \n",
    "                        min_dist = new_dist\n",
    "    \n",
    "    total_time = (time.time() - start_time)\n",
    "    return min_dist, total_time\n",
    "    "
   ]
  },
  {
   "cell_type": "code",
   "execution_count": 3,
   "id": "523f8211",
   "metadata": {},
   "outputs": [],
   "source": [
    "N = 300\n",
    "distances = np.empty(0)\n",
    "all_times = np.empty(0)\n",
    "\n",
    "new_distances = np.empty(0)\n",
    "new_all_times = np.empty(0)\n",
    "\n",
    "for num in range(2, N) : \n",
    "    p = generate_points(num)\n",
    "    \n",
    "    min_dist, t = minimum_distance(p)\n",
    "    distances = np.append(distances, min_dist)\n",
    "    all_times = np.append(all_times, t)\n",
    "    \n",
    "    min_dist2, t2 = new_distance(p)\n",
    "    new_distances = np.append(new_distances, min_dist2)\n",
    "    new_all_times = np.append(new_all_times, t2)"
   ]
  },
  {
   "cell_type": "code",
   "execution_count": 4,
   "id": "1ae54cf4",
   "metadata": {},
   "outputs": [
    {
     "data": {
      "text/plain": [
       "<matplotlib.legend.Legend at 0x7fa0e0f8dfd0>"
      ]
     },
     "execution_count": 4,
     "metadata": {},
     "output_type": "execute_result"
    },
    {
     "data": {
      "image/png": "[encoded data removed]",
      "text/plain": [
       "<Figure size 640x480 with 1 Axes>"
      ]
     },
     "metadata": {},
     "output_type": "display_data"
    }
   ],
   "source": [
    "## Plot execution time scaling \n",
    "\n",
    "n = np.arange(0, N, 1)\n",
    "plt.plot(all_times, label='Old')\n",
    "plt.plot(new_all_times, label = 'New')\n",
    "plt.legend()"
   ]
  },
  {
   "cell_type": "code",
   "execution_count": 5,
   "id": "9a182633",
   "metadata": {},
   "outputs": [
    {
     "name": "stdout",
     "output_type": "stream",
     "text": [
      "OK\n"
     ]
    }
   ],
   "source": [
    "## Check distances have been computed correctly\n",
    "\n",
    "if (distances == new_distances).all() : \n",
    "    print('OK')\n",
    "else : \n",
    "    print('Error')"
   ]
  },
  {
   "cell_type": "code",
   "execution_count": null,
   "id": "5cbb92d4",
   "metadata": {},
   "outputs": [],
   "source": []
  }
 ],
 "metadata": {
  "kernelspec": {
   "display_name": "base2",
   "language": "python",
   "name": "python3"
  },
  "language_info": {
   "codemirror_mode": {
    "name": "ipython",
    "version": 3
   },
   "file_extension": ".py",
   "mimetype": "text/x-python",
   "name": "python",
   "nbconvert_exporter": "python",
   "pygments_lexer": "ipython3",
   "version": "3.9.13"
  }
 },
 "nbformat": 4,
 "nbformat_minor": 5
}
